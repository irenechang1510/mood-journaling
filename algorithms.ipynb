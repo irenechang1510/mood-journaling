{
 "cells": [
  {
   "cell_type": "code",
   "execution_count": 69,
   "source": [
    "import spotipy\n",
    "import spotipy.util as util\n",
    "from pprint import pprint\n",
    "import json\n",
    "import argparse\n",
    "import matplotlib.pyplot as plt\n",
    "import numpy as np\n",
    "import pandas as pd\n",
    "\n",
    "client_id = 'a4601a5ae121413e9450015d6c0febaa'\n",
    "client_secret = 'ed18559d5243412281ab9c5e80a0db65'\n",
    "username='5dpgk6tgb1w0swe0ni3v8s1c9'\n",
    "redirect_uri='http://localhost:3000/'\n",
    "\n",
    "\n",
    "token = util.prompt_for_user_token(\n",
    "        username=username,\n",
    "        scope=['user-read-recently-played', 'playlist-read-private'],\n",
    "        client_id=client_id,\n",
    "        client_secret=client_secret,\n",
    "        redirect_uri=redirect_uri)\n",
    "\n",
    "sp = spotipy.Spotify(auth=token)"
   ],
   "outputs": [],
   "metadata": {}
  },
  {
   "cell_type": "code",
   "execution_count": 31,
   "source": [
    "def get_playlist_info(username, playlist_uri):\n",
    "    # initialize vars\n",
    "    offset = 0\n",
    "    tracks, uris, names, artists = [], [], [], []\n",
    "\n",
    "    # get playlist id and name from URI\n",
    "    playlist_id = playlist_uri.split(':')[2]\n",
    "    playlist_name = sp.user_playlist(username, playlist_id)['name']\n",
    "\n",
    "    # get all tracks in given playlist (max limit is 100 at a time --> use offset)\n",
    "    while True:\n",
    "        results = sp.user_playlist_tracks(username, playlist_id, offset=offset)\n",
    "        tracks += results['items']\n",
    "        if results['next'] is not None:\n",
    "            offset += 100\n",
    "        else:\n",
    "            break\n",
    "        \n",
    "    # get track metadata\n",
    "    for track in tracks:\n",
    "        try:\n",
    "            names.append(track['track']['name'])\n",
    "            artists.append(track['track']['artists'][0]['name'])\n",
    "            uris.append(track['track']['uri'])\n",
    "        except:\n",
    "            pass\n",
    "    \n",
    "    return playlist_name, names, artists, uris\n"
   ],
   "outputs": [],
   "metadata": {}
  },
  {
   "cell_type": "code",
   "execution_count": 3,
   "source": [
    "# Extract features from each track in a playlist\n",
    "def get_features_for_playlist(df, username, uri):\n",
    "  \n",
    "    # get all track metadata from given playlist\n",
    "    playlist_name, names, artists, uris = get_playlist_info(username, uri)\n",
    "    \n",
    "    # iterate through each track to get audio features and save data into dataframe\n",
    "    for name, artist, track_uri in zip(names, artists, uris):\n",
    "        \n",
    "        # access audio features for given track URI via spotipy \n",
    "        audio_features = sp.audio_features(track_uri)\n",
    "\n",
    "        # get relevant audio features\n",
    "        feature_subset = [audio_features[0][col] for col in df.columns if col not in [\"name\", \"artist\", \"track_URI\", \"playlist\"]]\n",
    "\n",
    "        # compose a row of the dataframe by flattening the list of audio features\n",
    "        row = [name, artist, track_uri, *feature_subset, playlist_name]\n",
    "        df.loc[len(df.index)] = row\n",
    "    return df"
   ],
   "outputs": [],
   "metadata": {}
  },
  {
   "cell_type": "code",
   "execution_count": 20,
   "source": [
    "def get_all_songs(df, user, playlist_id):\n",
    "    df = pd.DataFrame(columns=['name', 'artist', 'track_URI', 'acousticness', 'danceability', 'energy', 'instrumentalness', 'liveness', 'loudness', 'speechiness', 'tempo', 'valence', 'playlist'])\n",
    "    for id in playlist_id:\n",
    "        df = get_features_for_playlist(df, user, id).drop_duplicates()\n",
    "\n",
    "    return df"
   ],
   "outputs": [],
   "metadata": {}
  },
  {
   "cell_type": "code",
   "execution_count": 24,
   "source": [
    "happy_playlist = [\n",
    "    'spotify:playlist:37i9dQZF1DX3rxVfibe1L0', \n",
    "    'spotify:playlist:37i9dQZF1DX6GwdWRQMQpq', \n",
    "    'spotify:playlist:37i9dQZF1DX66m4icL86Ru', \n",
    "    'spotify:playlist:0RH319xCjeU8VyTSqCF6M4',\n",
    "    'spotify:playlist:37i9dQZF1DWZKuerrwoAGz']\n",
    "happy1 = pd.DataFrame(columns=['name', 'artist', 'track_URI', 'acousticness', 'danceability', 'energy', 'instrumentalness', 'liveness', 'loudness', 'speechiness', 'tempo', 'valence', 'playlist'])\n",
    "happy1 = get_all_songs(happy1, username, happy_playlist)"
   ],
   "outputs": [],
   "metadata": {}
  },
  {
   "cell_type": "code",
   "execution_count": 32,
   "source": [
    "sad_playlist = [\n",
    "    'spotify:playlist:37i9dQZF1DX3YSRoSdA634',\n",
    "    'spotify:playlist:37i9dQZF1DWSqBruwoIXkA',\n",
    "    'spotify:playlist:4yXfnhz0BReoVfwwYRtPBm'\n",
    "]\n",
    "sad = pd.DataFrame(columns=['name', 'artist', 'track_URI', 'acousticness', 'danceability', 'energy', 'instrumentalness', 'liveness', 'loudness', 'speechiness', 'tempo', 'valence', 'playlist'])\n",
    "sad = get_all_songs(sad, username, sad_playlist)"
   ],
   "outputs": [],
   "metadata": {}
  },
  {
   "cell_type": "code",
   "execution_count": 70,
   "source": [
    "mixed_playlist = ['spotify:playlist:4Yx4qIVyn4A1Hn5T2DVA3P']\n",
    "mixed = pd.DataFrame(columns=['name', 'artist', 'track_URI', 'acousticness', 'danceability', 'energy', 'instrumentalness', 'liveness', 'loudness', 'speechiness', 'tempo', 'valence', 'playlist'])\n",
    "mixed = get_all_songs(mixed, username, mixed_playlist)"
   ],
   "outputs": [],
   "metadata": {}
  },
  {
   "cell_type": "code",
   "execution_count": 41,
   "source": [
    "ones = np.ones(554)\n",
    "happy1.insert(3, 'label', ones)\n",
    "\n",
    "zeros = np.zeros(586)\n",
    "sad.insert(3, 'label', zeros)"
   ],
   "outputs": [],
   "metadata": {}
  },
  {
   "cell_type": "code",
   "execution_count": 46,
   "source": [
    "full_data = happy1.merge(sad, how='outer')"
   ],
   "outputs": [],
   "metadata": {}
  },
  {
   "cell_type": "code",
   "execution_count": 57,
   "source": [
    "train_full = full_data.drop(['name', 'artist', 'track_URI', 'playlist'], axis=1)"
   ],
   "outputs": [],
   "metadata": {}
  },
  {
   "cell_type": "code",
   "execution_count": 58,
   "source": [
    "from sklearn.linear_model import LogisticRegression\n",
    "from sklearn.model_selection import train_test_split\n",
    "\n",
    "x_train, x_test, y_train, y_test = train_test_split(train_full.drop('label', axis=1), train_full['label'], test_size=0.2, random_state=0)"
   ],
   "outputs": [],
   "metadata": {}
  },
  {
   "cell_type": "code",
   "execution_count": 60,
   "source": [
    "from sklearn.model_selection import cross_val_score\n",
    "lr = LogisticRegression()\n",
    "lr.fit(x_train, y_train)\n",
    "np.mean(cross_val_score(lr, x_test, y_test))"
   ],
   "outputs": [
    {
     "output_type": "stream",
     "name": "stderr",
     "text": [
      "/opt/anaconda3/lib/python3.7/site-packages/sklearn/linear_model/_logistic.py:765: ConvergenceWarning: lbfgs failed to converge (status=1):\n",
      "STOP: TOTAL NO. of ITERATIONS REACHED LIMIT.\n",
      "\n",
      "Increase the number of iterations (max_iter) or scale the data as shown in:\n",
      "    https://scikit-learn.org/stable/modules/preprocessing.html\n",
      "Please also refer to the documentation for alternative solver options:\n",
      "    https://scikit-learn.org/stable/modules/linear_model.html#logistic-regression\n",
      "  extra_warning_msg=_LOGISTIC_SOLVER_CONVERGENCE_MSG)\n"
     ]
    },
    {
     "output_type": "execute_result",
     "data": {
      "text/plain": [
       "0.8901449275362319"
      ]
     },
     "metadata": {},
     "execution_count": 60
    }
   ],
   "metadata": {}
  },
  {
   "cell_type": "code",
   "execution_count": 72,
   "source": [
    "vnpred = lr.predict_proba(mixed.drop(['name', 'artist', 'track_URI', 'playlist'], axis=1))[:,1]\n",
    "mixed.insert(3, 'prediction', vnpred)"
   ],
   "outputs": [],
   "metadata": {}
  },
  {
   "cell_type": "code",
   "execution_count": 88,
   "source": [
    "y = range(5)\n",
    "q = map(lambda x: x*x, y)"
   ],
   "outputs": [],
   "metadata": {}
  },
  {
   "cell_type": "code",
   "execution_count": 92,
   "source": [
    "for i in range(len(mixed)):\n",
    "    print(mixed.loc[i, 'name'], \"  \", mixed.loc[i, 'prediction'])"
   ],
   "outputs": [
    {
     "output_type": "stream",
     "name": "stdout",
     "text": [
      "Trốn Tìm    0.03546764023772205\n",
      "Có Lẽ Anh Chưa Từng    0.21574104916474918\n",
      "Trên Tình Bạn Dưới Tình Yêu    0.9598039152042963\n",
      "Buồn Thì Cứ Khóc Đi    0.3965703357408827\n",
      "từ chối nhẹ nhàng thôi    0.3930356469731377\n",
      "Lối Nhỏ    0.0879273677094255\n",
      "Bài Này Chill Phết    0.644691679680936\n",
      "Thanh Xuan    0.03481147722774211\n",
      "Một Cú Lừa    0.6150418584193801\n",
      "em bỏ hút thuốc chưa?    0.046746688444983565\n",
      "Ke Cap Gap Ba Gia (feat. BINZ)    0.3349275954731693\n",
      "Duyen Am    0.5471182690000629\n",
      "Em Không Sai, Chúng Ta Sai    0.0736654537705942\n",
      "Thang Dien    0.3964619883390654\n",
      "Da Lo Yeu Em Nhieu    0.07074671209581918\n",
      "Mặt Trời Của Em    0.3852753155336503\n",
      "Ngày Mai Em Đi    0.5115372648223231\n",
      "Vai Lan Don Dua    0.5506585888989752\n",
      "Nước Mắt Em Lau Bằng Tình Yêu Mới    0.1469074613910439\n",
      "Dấu Mưa    0.02525085858066182\n",
      "Chiều Nay Không Có Mưa Bay    0.06277035761078842\n",
      "Lạ Lùng    0.0078014901147104845\n",
      "Hai Triệu Năm    0.6742779335471253\n",
      "Anh Đếch Cần Gì Nhiều Ngoài Em    0.04504721468014283\n",
      "Cho Tôi Lang Thang    0.8013675157361745\n",
      "No Boyfriend - Original    0.7205185640608289\n",
      "Đường Một Chiều    0.040190637494698374\n",
      "Có Chàng Trai Viết Lên Cây    0.009087588037534258\n",
      "Đi Để Trở Về    0.3766253124181786\n",
      "Quan Trong La Than Thai - Original    0.957965484021894\n",
      "Mượn Rượu Tỏ Tình    0.39990172429415044\n",
      "Anh Nhà Ở Đâu Thế?    0.41420555897637223\n",
      "Trời Giấu Trời Mang Đi    0.04661975401853986\n",
      "Đừng Nói Tôi Điên    0.08521579897339884\n",
      "Em Ngày Xưa Khác Rồi    0.005400858313936391\n",
      "Rồi Người Thương Cũng Hóa Người Dưng    0.01647092947147694\n",
      "Anh Oi O Lai    0.013902127842643778\n",
      "Nơi Này Có Anh    0.7670838523858446\n",
      "Chúng Ta Không Thuộc Về Nhau    0.8797690883980772\n",
      "Say You Do    0.3994484310511453\n",
      "Vì Tôi Còn Sống - 3rd Single 2015    0.17970807378549225\n",
      "My Everything    0.4134023360580656\n",
      "Sáng Mắt Chưa    0.957854216196238\n",
      "Nhung Ke Mong Mo    0.3512603765536252\n",
      "Nhắm Mắt Thấy Mùa Hè    0.01544300946030388\n",
      "Yêu 5    0.15537043263656714\n",
      "Em Mới Là Người Yêu Anh    0.7731106265928571\n",
      "ex's hate me, Pt. 2    0.07714485142894434\n",
      "Mot Dem Say (X)    0.04856650426295802\n",
      "Chân Ái    0.3217678647430246\n",
      "Ngày Chưa Giông Bão    0.019517339626768968\n",
      "Thu Cuối    0.4744261777892598\n",
      "Em Gái Mưa    0.05522853676533062\n",
      "Giữ Em Đi    0.06919085762334837\n",
      "Lắng Nghe Nước Mắt    0.01987169148189353\n",
      "Chiec Khan Gio Am    0.8939381557742088\n",
      "Khóc    0.3700189271884175\n",
      "Trách Ai Bây Giờ    0.11668961664894029\n",
      "Giận Lòng    0.10612173372732776\n",
      "Có Những Yêu Thương Nào    0.7377718035474515\n",
      "Ba Kể Con Nghe    0.1039386489778214\n",
      "Papa    0.7711694513548797\n",
      "Màu Nước Mắt    0.03374989594845166\n",
      "Một Bước Yêu, Vạn Dặm Đau    0.030106487910912402\n",
      "Nothing In Your Eyes 2    0.6834331738986631\n",
      "Cảm Nắng    0.16076519421192811\n",
      "Có Em Chờ    0.4499145375972196\n",
      "Chiều Hôm Ấy    0.045105510130449826\n",
      "Đếm Ngày Xa Em    0.45527208491109006\n",
      "Đừng Ai Nhắc Về Anh Ấy    0.046384465194209405\n",
      "Yêu Một Người Có Lẽ    0.548842676850102\n",
      "Yêu Em Dại Khờ    0.6445036006014472\n",
      "Tâm Sự Với Người Lạ    0.07703420691783892\n",
      "Điều Buồn Nhất    0.025864105031207934\n",
      "Xin Đừng Lặng Im    0.04986821033413663\n",
      "Vet Mua    0.07371358178585108\n",
      "Hôm Nay Tôi Buồn    0.010180298455299766\n",
      "Đi Về Đâu    0.7484616328991784\n",
      "Người Lạ Ơi    0.6526263019847954\n",
      "Không Thể Cùng Nhau Suốt Kiếp    0.018699915819265656\n",
      "Nếu Ngày Ấy    0.17241782673274328\n",
      "Cô Gái Bàn Bên    0.18075403155285602\n",
      "Thời Thanh Xuân Sẽ Qua    0.10937103427168259\n",
      "Khi Người Lớn Cô Đơn    0.06500215630325298\n",
      "Giá Có Thể Ôm Ai Và Khóc    0.012629876660906805\n",
      "Ông Bà Anh    0.6966168855992932\n",
      "Trong Tri Nho Cua Anh Cover - Original    0.002473905496225259\n",
      "Trái Tim Em Cũng Biết Đau    0.10806278263369677\n",
      "Yêu Một Người Vô Tâm    0.09805395699843623\n",
      "Ai Cần Ai    0.9497518114548361\n",
      "Mình Yêu Nhau Bao Lâu    0.01995318373146597\n",
      "Anh Muốn Em Sống Sao    0.13649627521604477\n",
      "Người Yêu Cũ    0.11222419443138522\n",
      "Mai Mai Ben Nhau    0.5704459796831884\n",
      "Gửi Cho Anh    0.642962334793213\n",
      "Cần Gì Hơn    0.4625090932955984\n",
      "Nu Hon Danh Roi - OST Thang Nam Ruc Ro - Original    0.0008751524529165496\n",
      "Chuyện Ngày Sau Kể    0.031197434767707553\n",
      "Mascara    0.12267261336226973\n",
      "Thức Giấc    0.18334681332306033\n",
      "Gat Di Nuoc Mat    0.16630106846790868\n",
      "Cho Em Một Lần Yêu    0.41673997982992994\n",
      "Lời Thú Tội Ngọt Ngào    0.2248735727242191\n"
     ]
    }
   ],
   "metadata": {}
  },
  {
   "cell_type": "code",
   "execution_count": 74,
   "source": [
    "import pickle\n",
    "pickle.dump(lr, open(\"deploy_model.sav\", 'wb'))"
   ],
   "outputs": [],
   "metadata": {}
  }
 ],
 "metadata": {
  "orig_nbformat": 4,
  "language_info": {
   "name": "python",
   "version": "3.7.6",
   "mimetype": "text/x-python",
   "codemirror_mode": {
    "name": "ipython",
    "version": 3
   },
   "pygments_lexer": "ipython3",
   "nbconvert_exporter": "python",
   "file_extension": ".py"
  },
  "kernelspec": {
   "name": "python3",
   "display_name": "Python 3.7.6 64-bit ('base': conda)"
  },
  "interpreter": {
   "hash": "dca0ade3e726a953b501b15e8e990130d2b7799f14cfd9f4271676035ebe5511"
  }
 },
 "nbformat": 4,
 "nbformat_minor": 2
}